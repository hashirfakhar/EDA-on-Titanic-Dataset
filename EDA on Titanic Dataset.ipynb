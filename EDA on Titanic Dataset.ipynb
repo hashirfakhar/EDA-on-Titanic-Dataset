{
 "cells": [
  {
   "cell_type": "markdown",
   "id": "adf77f78",
   "metadata": {},
   "source": [
    "# Importing Libraries"
   ]
  },
  {
   "cell_type": "code",
   "execution_count": 1,
   "id": "61cf2139",
   "metadata": {},
   "outputs": [],
   "source": [
    "import pandas as pd\n",
    "import numpy as np\n",
    "import matplotlib.pyplot as plt\n",
    "import seaborn as sns\n",
    "\n",
    "from sklearn.model_selection import train_test_split, cross_val_score, StratifiedKFold\n",
    "from sklearn.preprocessing import OneHotEncoder, LabelEncoder\n",
    "from sklearn.impute import SimpleImputer\n",
    "from sklearn.compose import ColumnTransformer\n",
    "from sklearn.pipeline import Pipeline\n",
    "from sklearn.ensemble import RandomForestClassifier\n",
    "from sklearn.linear_model import LogisticRegression\n",
    "from sklearn.metrics import accuracy_score, confusion_matrix, classification_report\n",
    "\n",
    "sns.set(style=\"whitegrid\")"
   ]
  },
  {
   "cell_type": "markdown",
   "id": "6c21e103",
   "metadata": {},
   "source": [
    "# Load Data"
   ]
  },
  {
   "cell_type": "code",
   "execution_count": 2,
   "id": "a124d1d0",
   "metadata": {},
   "outputs": [
    {
     "name": "stdout",
     "output_type": "stream",
     "text": [
      "Train shape: (891, 12)\n",
      "Test shape: (418, 11)\n"
     ]
    },
    {
     "data": {
      "text/html": [
       "<div>\n",
       "<style scoped>\n",
       "    .dataframe tbody tr th:only-of-type {\n",
       "        vertical-align: middle;\n",
       "    }\n",
       "\n",
       "    .dataframe tbody tr th {\n",
       "        vertical-align: top;\n",
       "    }\n",
       "\n",
       "    .dataframe thead th {\n",
       "        text-align: right;\n",
       "    }\n",
       "</style>\n",
       "<table border=\"1\" class=\"dataframe\">\n",
       "  <thead>\n",
       "    <tr style=\"text-align: right;\">\n",
       "      <th></th>\n",
       "      <th>PassengerId</th>\n",
       "      <th>Survived</th>\n",
       "      <th>Pclass</th>\n",
       "      <th>Name</th>\n",
       "      <th>Sex</th>\n",
       "      <th>Age</th>\n",
       "      <th>SibSp</th>\n",
       "      <th>Parch</th>\n",
       "      <th>Ticket</th>\n",
       "      <th>Fare</th>\n",
       "      <th>Cabin</th>\n",
       "      <th>Embarked</th>\n",
       "    </tr>\n",
       "  </thead>\n",
       "  <tbody>\n",
       "    <tr>\n",
       "      <th>0</th>\n",
       "      <td>1</td>\n",
       "      <td>0</td>\n",
       "      <td>3</td>\n",
       "      <td>Braund, Mr. Owen Harris</td>\n",
       "      <td>male</td>\n",
       "      <td>22.0</td>\n",
       "      <td>1</td>\n",
       "      <td>0</td>\n",
       "      <td>A/5 21171</td>\n",
       "      <td>7.2500</td>\n",
       "      <td>NaN</td>\n",
       "      <td>S</td>\n",
       "    </tr>\n",
       "    <tr>\n",
       "      <th>1</th>\n",
       "      <td>2</td>\n",
       "      <td>1</td>\n",
       "      <td>1</td>\n",
       "      <td>Cumings, Mrs. John Bradley (Florence Briggs Th...</td>\n",
       "      <td>female</td>\n",
       "      <td>38.0</td>\n",
       "      <td>1</td>\n",
       "      <td>0</td>\n",
       "      <td>PC 17599</td>\n",
       "      <td>71.2833</td>\n",
       "      <td>C85</td>\n",
       "      <td>C</td>\n",
       "    </tr>\n",
       "    <tr>\n",
       "      <th>2</th>\n",
       "      <td>3</td>\n",
       "      <td>1</td>\n",
       "      <td>3</td>\n",
       "      <td>Heikkinen, Miss. Laina</td>\n",
       "      <td>female</td>\n",
       "      <td>26.0</td>\n",
       "      <td>0</td>\n",
       "      <td>0</td>\n",
       "      <td>STON/O2. 3101282</td>\n",
       "      <td>7.9250</td>\n",
       "      <td>NaN</td>\n",
       "      <td>S</td>\n",
       "    </tr>\n",
       "    <tr>\n",
       "      <th>3</th>\n",
       "      <td>4</td>\n",
       "      <td>1</td>\n",
       "      <td>1</td>\n",
       "      <td>Futrelle, Mrs. Jacques Heath (Lily May Peel)</td>\n",
       "      <td>female</td>\n",
       "      <td>35.0</td>\n",
       "      <td>1</td>\n",
       "      <td>0</td>\n",
       "      <td>113803</td>\n",
       "      <td>53.1000</td>\n",
       "      <td>C123</td>\n",
       "      <td>S</td>\n",
       "    </tr>\n",
       "    <tr>\n",
       "      <th>4</th>\n",
       "      <td>5</td>\n",
       "      <td>0</td>\n",
       "      <td>3</td>\n",
       "      <td>Allen, Mr. William Henry</td>\n",
       "      <td>male</td>\n",
       "      <td>35.0</td>\n",
       "      <td>0</td>\n",
       "      <td>0</td>\n",
       "      <td>373450</td>\n",
       "      <td>8.0500</td>\n",
       "      <td>NaN</td>\n",
       "      <td>S</td>\n",
       "    </tr>\n",
       "  </tbody>\n",
       "</table>\n",
       "</div>"
      ],
      "text/plain": [
       "   PassengerId  Survived  Pclass  \\\n",
       "0            1         0       3   \n",
       "1            2         1       1   \n",
       "2            3         1       3   \n",
       "3            4         1       1   \n",
       "4            5         0       3   \n",
       "\n",
       "                                                Name     Sex   Age  SibSp  \\\n",
       "0                            Braund, Mr. Owen Harris    male  22.0      1   \n",
       "1  Cumings, Mrs. John Bradley (Florence Briggs Th...  female  38.0      1   \n",
       "2                             Heikkinen, Miss. Laina  female  26.0      0   \n",
       "3       Futrelle, Mrs. Jacques Heath (Lily May Peel)  female  35.0      1   \n",
       "4                           Allen, Mr. William Henry    male  35.0      0   \n",
       "\n",
       "   Parch            Ticket     Fare Cabin Embarked  \n",
       "0      0         A/5 21171   7.2500   NaN        S  \n",
       "1      0          PC 17599  71.2833   C85        C  \n",
       "2      0  STON/O2. 3101282   7.9250   NaN        S  \n",
       "3      0            113803  53.1000  C123        S  \n",
       "4      0            373450   8.0500   NaN        S  "
      ]
     },
     "execution_count": 2,
     "metadata": {},
     "output_type": "execute_result"
    }
   ],
   "source": [
    "train = pd.read_csv('data/train.csv')\n",
    "test = pd.read_csv('data/test.csv')\n",
    "print(\"Train shape:\", train.shape)\n",
    "print(\"Test shape:\", test.shape)\n",
    "train.head()"
   ]
  },
  {
   "cell_type": "markdown",
   "id": "8a7bd662",
   "metadata": {},
   "source": [
    "# Check for Missing Values"
   ]
  },
  {
   "cell_type": "code",
   "execution_count": 3,
   "id": "335e8684",
   "metadata": {
    "scrolled": false
   },
   "outputs": [
    {
     "name": "stdout",
     "output_type": "stream",
     "text": [
      "<class 'pandas.core.frame.DataFrame'>\n",
      "RangeIndex: 891 entries, 0 to 890\n",
      "Data columns (total 12 columns):\n",
      " #   Column       Non-Null Count  Dtype  \n",
      "---  ------       --------------  -----  \n",
      " 0   PassengerId  891 non-null    int64  \n",
      " 1   Survived     891 non-null    int64  \n",
      " 2   Pclass       891 non-null    int64  \n",
      " 3   Name         891 non-null    object \n",
      " 4   Sex          891 non-null    object \n",
      " 5   Age          714 non-null    float64\n",
      " 6   SibSp        891 non-null    int64  \n",
      " 7   Parch        891 non-null    int64  \n",
      " 8   Ticket       891 non-null    object \n",
      " 9   Fare         891 non-null    float64\n",
      " 10  Cabin        204 non-null    object \n",
      " 11  Embarked     889 non-null    object \n",
      "dtypes: float64(2), int64(5), object(5)\n",
      "memory usage: 83.7+ KB\n",
      "None\n",
      "Cabin          687\n",
      "Age            177\n",
      "Embarked         2\n",
      "PassengerId      0\n",
      "Survived         0\n",
      "Pclass           0\n",
      "Name             0\n",
      "Sex              0\n",
      "SibSp            0\n",
      "Parch            0\n",
      "Ticket           0\n",
      "Fare             0\n",
      "dtype: int64\n"
     ]
    }
   ],
   "source": [
    "print(train.info())\n",
    "print(train.isnull().sum().sort_values(ascending=False))"
   ]
  },
  {
   "cell_type": "markdown",
   "id": "4066a1db",
   "metadata": {},
   "source": [
    "# Fill Missing Values"
   ]
  },
  {
   "cell_type": "code",
   "execution_count": 6,
   "id": "f8588207",
   "metadata": {},
   "outputs": [],
   "source": [
    "train.fillna(train.median(numeric_only=True), inplace=True)  # numeric columns\n",
    "train.fillna(train.mode().iloc[0], inplace=True)  # categorical columns"
   ]
  },
  {
   "cell_type": "markdown",
   "id": "e7443320",
   "metadata": {},
   "source": [
    "# Basic EDA"
   ]
  },
  {
   "cell_type": "markdown",
   "id": "02b112a8",
   "metadata": {},
   "source": [
    "## Survival Rate"
   ]
  },
  {
   "cell_type": "code",
   "execution_count": 7,
   "id": "08a40f12",
   "metadata": {},
   "outputs": [
    {
     "data": {
      "image/png": "[encoded data removed]",
      "text/plain": [
       "<Figure size 600x400 with 1 Axes>"
      ]
     },
     "metadata": {},
     "output_type": "display_data"
    }
   ],
   "source": [
    "plt.figure(figsize=(6,4))\n",
    "sns.countplot(x='Survived', data=train)\n",
    "plt.title('Survival Count')\n",
    "plt.show()"
   ]
  },
  {
   "cell_type": "markdown",
   "id": "aaf0862d",
   "metadata": {},
   "source": [
    "## Survival by Sex"
   ]
  },
  {
   "cell_type": "code",
   "execution_count": 8,
   "id": "7948a910",
   "metadata": {},
   "outputs": [
    {
     "data": {
      "image/png": "[encoded data removed]",
      "text/plain": [
       "<Figure size 600x400 with 1 Axes>"
      ]
     },
     "metadata": {},
     "output_type": "display_data"
    }
   ],
   "source": [
    "plt.figure(figsize=(6,4))\n",
    "sns.barplot(x='Sex', y='Survived', data=train)\n",
    "plt.title('Survival rate by Sex')\n",
    "plt.show()"
   ]
  },
  {
   "cell_type": "markdown",
   "id": "4d534b11",
   "metadata": {},
   "source": [
    "## Age Distribution"
   ]
  },
  {
   "cell_type": "code",
   "execution_count": 9,
   "id": "a222119f",
   "metadata": {},
   "outputs": [
    {
     "data": {
      "image/png": "[encoded data removed]",
      "text/plain": [
       "<Figure size 800x400 with 1 Axes>"
      ]
     },
     "metadata": {},
     "output_type": "display_data"
    }
   ],
   "source": [
    "plt.figure(figsize=(8,4))\n",
    "sns.histplot(train['Age'].dropna(), bins=30, kde=False)\n",
    "plt.title('Age distribution')\n",
    "plt.show()"
   ]
  },
  {
   "cell_type": "markdown",
   "id": "86f0f842",
   "metadata": {},
   "source": [
    "# Feature Engineering Helpers"
   ]
  },
  {
   "cell_type": "code",
   "execution_count": 10,
   "id": "1e9dbca5",
   "metadata": {},
   "outputs": [
    {
     "name": "stdout",
     "output_type": "stream",
     "text": [
      "Combined shape: (1309, 17)\n"
     ]
    }
   ],
   "source": [
    "def extract_title(name):\n",
    "    # Extract title from name\n",
    "    if pd.isna(name):\n",
    "        return \"Unknown\"\n",
    "    title = name.split(',')[1].split('.')[0].strip()\n",
    "    return title\n",
    "\n",
    "def preprocess(df):\n",
    "    # Create copies to avoid modifying original\n",
    "    df = df.copy()\n",
    "    # Feature: FamilySize\n",
    "    df['FamilySize'] = df['SibSp'] + df['Parch'] + 1\n",
    "    df['IsAlone'] = (df['FamilySize'] == 1).astype(int)\n",
    "    # Title from name\n",
    "    df['Title'] = df['Name'].apply(extract_title)\n",
    "    # Reduce rare titles\n",
    "    rare_titles = ['Lady', 'Countess','Capt','Col','Don','Dr','Major','Rev','Sir','Jonkheer','Dona']\n",
    "    df['Title'] = df['Title'].replace(rare_titles, 'Rare')\n",
    "    df['Title'] = df['Title'].replace(['Mlle','Ms'],'Miss')\n",
    "    df['Title'] = df['Title'].replace('Mme','Mrs')\n",
    "    # Cabin: replace with deck (first letter), missing -> 'U'\n",
    "    df['CabinDeck'] = df['Cabin'].fillna('U').astype(str).str[0]\n",
    "    # Ticket number prefix (optional): keep whether ticket is numeric\n",
    "    df['TicketNumeric'] = df['Ticket'].str.isnumeric().astype(int)\n",
    "    return df\n",
    "\n",
    "# Apply to both\n",
    "train_p = preprocess(train)\n",
    "test_p  = preprocess(test)\n",
    "\n",
    "# Combine train+test for consistent preprocessing\n",
    "test_p['Survived'] = np.nan\n",
    "combined = pd.concat([train_p, test_p], sort=False).reset_index(drop=True)\n",
    "print(\"Combined shape:\", combined.shape)"
   ]
  },
  {
   "cell_type": "markdown",
   "id": "50bd7fac",
   "metadata": {},
   "source": [
    "# Missing Values Handling & Final Feature List"
   ]
  },
  {
   "cell_type": "code",
   "execution_count": 11,
   "id": "23b72c90",
   "metadata": {},
   "outputs": [
    {
     "name": "stdout",
     "output_type": "stream",
     "text": [
      "Missing counts after imputation:\n",
      " Pclass           0\n",
      "Sex              0\n",
      "Age              0\n",
      "SibSp            0\n",
      "Parch            0\n",
      "Fare             0\n",
      "Embarked         0\n",
      "FamilySize       0\n",
      "IsAlone          0\n",
      "Title            0\n",
      "CabinDeck        0\n",
      "TicketNumeric    0\n",
      "dtype: int64\n"
     ]
    }
   ],
   "source": [
    "# Impute Age by median per Title (better than global median)\n",
    "combined['Age'] = combined.groupby('Title')['Age'].transform(lambda x: x.fillna(x.median()))\n",
    "\n",
    "# If still missing, fill with global median\n",
    "combined['Age'].fillna(combined['Age'].median(), inplace=True)\n",
    "\n",
    "# Fare: in test there may be missing fares (some datasets) -> fill by median of Pclass\n",
    "combined['Fare'] = combined.groupby('Pclass')['Fare'].transform(lambda x: x.fillna(x.median()))\n",
    "combined['Fare'].fillna(combined['Fare'].median(), inplace=True)\n",
    "\n",
    "# Embarked: fill with mode\n",
    "combined['Embarked'].fillna(combined['Embarked'].mode()[0], inplace=True)\n",
    "\n",
    "# Drop PassengerId only at modeling time; keep it for final submission\n",
    "# Drop columns we won't use: Name, Ticket, Cabin (we used CabinDeck already), Cabin original\n",
    "combined.drop(columns=['Name','Ticket','Cabin'], inplace=True, errors='ignore')\n",
    "\n",
    "# Final feature selection (you can tweak)\n",
    "features = [\n",
    "    'Pclass', 'Sex', 'Age', 'SibSp', 'Parch', 'Fare', 'Embarked',\n",
    "    'FamilySize', 'IsAlone', 'Title', 'CabinDeck', 'TicketNumeric'\n",
    "]\n",
    "\n",
    "# Check missing values now\n",
    "print(\"Missing counts after imputation:\\n\", combined[features].isnull().sum())"
   ]
  },
  {
   "cell_type": "markdown",
   "id": "302f9811",
   "metadata": {},
   "source": [
    "# Encoding Categorical Features"
   ]
  },
  {
   "cell_type": "code",
   "execution_count": 12,
   "id": "b321c65a",
   "metadata": {},
   "outputs": [
    {
     "name": "stdout",
     "output_type": "stream",
     "text": [
      "Feature matrix shape (train): (891, 23)\n",
      "Feature matrix shape (test): (418, 23)\n"
     ]
    }
   ],
   "source": [
    "# We'll one-hot encode: Sex, Embarked, Title, CabinDeck\n",
    "cat_cols = ['Sex','Embarked','Title','CabinDeck']\n",
    "num_cols = ['Pclass','Age','SibSp','Parch','Fare','FamilySize','IsAlone','TicketNumeric']\n",
    "\n",
    "# Split combined back to train / test\n",
    "train_proc = combined[combined['Survived'].notna()].copy()\n",
    "test_proc  = combined[combined['Survived'].isna()].copy()\n",
    "\n",
    "# Convert Survived to int\n",
    "train_proc['Survived'] = train_proc['Survived'].astype(int)\n",
    "\n",
    "X = train_proc[features].copy()\n",
    "y = train_proc['Survived'].copy()\n",
    "X_test_final = test_proc[features].copy()\n",
    "test_passenger_ids = test_proc['PassengerId'].copy()\n",
    "\n",
    "# One-hot via pandas (simple)\n",
    "X = pd.get_dummies(X, columns=cat_cols, drop_first=True)\n",
    "X_test_final = pd.get_dummies(X_test_final, columns=cat_cols, drop_first=True)\n",
    "\n",
    "# Ensure train and test have same columns\n",
    "X, X_test_final = X.align(X_test_final, join='left', axis=1, fill_value=0)\n",
    "\n",
    "print(\"Feature matrix shape (train):\", X.shape)\n",
    "print(\"Feature matrix shape (test):\", X_test_final.shape)"
   ]
  },
  {
   "cell_type": "markdown",
   "id": "62e59ac9",
   "metadata": {},
   "source": [
    "# Train / Validation Split & Baseline Models"
   ]
  },
  {
   "cell_type": "code",
   "execution_count": 13,
   "id": "d4d8dc17",
   "metadata": {},
   "outputs": [
    {
     "name": "stdout",
     "output_type": "stream",
     "text": [
      "Logistic Regression val accuracy: 0.8268156424581006\n",
      "Random Forest val accuracy: 0.8044692737430168\n",
      "CV Accuracy — RandomForest: 0.8125, LogisticRegression: 0.8260\n",
      "Top features:\n",
      " Fare           0.204575\n",
      "Age            0.196605\n",
      "Title_Mr       0.118759\n",
      "Sex_male       0.111650\n",
      "Pclass         0.062447\n",
      "FamilySize     0.045056\n",
      "Title_Mrs      0.041340\n",
      "Title_Miss     0.035430\n",
      "CabinDeck_B    0.030346\n",
      "SibSp          0.027083\n",
      "dtype: float64\n"
     ]
    }
   ],
   "source": [
    "X_train, X_val, y_train, y_val = train_test_split(X, y, test_size=0.2, random_state=42, stratify=y)\n",
    "\n",
    "# Logistic Regression\n",
    "lr = LogisticRegression(max_iter=1000)\n",
    "lr.fit(X_train, y_train)\n",
    "lr_preds = lr.predict(X_val)\n",
    "print(\"Logistic Regression val accuracy:\", accuracy_score(y_val, lr_preds))\n",
    "\n",
    "# Random Forest\n",
    "rf = RandomForestClassifier(n_estimators=200, random_state=42)\n",
    "rf.fit(X_train, y_train)\n",
    "rf_preds = rf.predict(X_val)\n",
    "print(\"Random Forest val accuracy:\", accuracy_score(y_val, rf_preds))\n",
    "\n",
    "# Cross-validated scores\n",
    "cv = StratifiedKFold(n_splits=5, shuffle=True, random_state=42)\n",
    "rf_cv_score = cross_val_score(rf, X, y, cv=cv, scoring='accuracy').mean()\n",
    "lr_cv_score = cross_val_score(lr, X, y, cv=cv, scoring='accuracy').mean()\n",
    "print(f\"CV Accuracy — RandomForest: {rf_cv_score:.4f}, LogisticRegression: {lr_cv_score:.4f}\")\n",
    "\n",
    "# Feature importance (RF)\n",
    "importances = pd.Series(rf.feature_importances_, index=X.columns).sort_values(ascending=False)\n",
    "print(\"Top features:\\n\", importances.head(10))"
   ]
  }
 ],
 "metadata": {
  "kernelspec": {
   "display_name": "Python 3 (ipykernel)",
   "language": "python",
   "name": "python3"
  },
  "language_info": {
   "codemirror_mode": {
    "name": "ipython",
    "version": 3
   },
   "file_extension": ".py",
   "mimetype": "text/x-python",
   "name": "python",
   "nbconvert_exporter": "python",
   "pygments_lexer": "ipython3",
   "version": "3.11.5"
  }
 },
 "nbformat": 4,
 "nbformat_minor": 5
}
